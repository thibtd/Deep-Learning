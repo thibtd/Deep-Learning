{
 "cells": [
  {
   "cell_type": "markdown",
   "id": "1e71c1ff",
   "metadata": {},
   "source": [
    "# Multi class classification with CNN \n",
    "\n",
    "## Idea:\n",
    "- Build a CNN model to classify the images of the fashion MNIST dataset.\n",
    "- Use torchvision to build the model."
   ]
  },
  {
   "cell_type": "code",
   "execution_count": 2,
   "id": "f8d29335",
   "metadata": {},
   "outputs": [
    {
     "name": "stderr",
     "output_type": "stream",
     "text": [
      "/Users/thibtd/some fun/Deep-Learning/.venv/lib/python3.12/site-packages/tqdm/auto.py:21: TqdmWarning: IProgress not found. Please update jupyter and ipywidgets. See https://ipywidgets.readthedocs.io/en/stable/user_install.html\n",
      "  from .autonotebook import tqdm as notebook_tqdm\n"
     ]
    }
   ],
   "source": [
    "# import the necessary libraries\n",
    "import torch \n",
    "from torchvision import datasets, transforms\n",
    "from torch.utils.data import random_split\n",
    "import numpy as np\n",
    "import optuna\n",
    "from optuna.trial import TrialState"
   ]
  },
  {
   "cell_type": "markdown",
   "id": "571fb6ae",
   "metadata": {},
   "source": [
    "### 1. Load and preprocess the dataset"
   ]
  },
  {
   "cell_type": "code",
   "execution_count": 3,
   "id": "f1170b52",
   "metadata": {},
   "outputs": [],
   "source": [
    "transform_pipeline = transforms.ToTensor()"
   ]
  },
  {
   "cell_type": "code",
   "execution_count": 4,
   "id": "b3734da9",
   "metadata": {},
   "outputs": [],
   "source": [
    "fashionMnist_data = datasets.FashionMNIST('./data',train=True,download=True, transform= transform_pipeline)"
   ]
  },
  {
   "cell_type": "code",
   "execution_count": 5,
   "id": "213dac52",
   "metadata": {},
   "outputs": [],
   "source": [
    "data_loader = torch.utils.data.DataLoader(fashionMnist_data,batch_size=1000, shuffle=True)"
   ]
  },
  {
   "cell_type": "code",
   "execution_count": 6,
   "id": "e86b29cb",
   "metadata": {},
   "outputs": [
    {
     "name": "stdout",
     "output_type": "stream",
     "text": [
      "torch.Size([60000, 28, 28])\n"
     ]
    }
   ],
   "source": [
    "# Look at shape of the data\n",
    "print(data_loader.dataset.data.shape)\n"
   ]
  },
  {
   "cell_type": "code",
   "execution_count": 7,
   "id": "c35b540e",
   "metadata": {},
   "outputs": [
    {
     "name": "stdout",
     "output_type": "stream",
     "text": [
      "<class 'torch.Tensor'>\n",
      "Range of data: 0 - 255\n"
     ]
    }
   ],
   "source": [
    "# inspect type and range of data \n",
    "print(type(data_loader.dataset.data))\n",
    "min_val = data_loader.dataset.data.min().item()\n",
    "max_val = data_loader.dataset.data.max().item()\n",
    "print(f'Range of data: {min_val} - {max_val}')\n"
   ]
  },
  {
   "cell_type": "code",
   "execution_count": 8,
   "id": "720c833c",
   "metadata": {},
   "outputs": [
    {
     "name": "stdout",
     "output_type": "stream",
     "text": [
      "Mean: 0.28604060411453247, Std: 0.35302427411079407\n"
     ]
    }
   ],
   "source": [
    "# Now let's normalize the data so that the pixel values are between 0 and 1\n",
    "# Start by computing the mean and standard deviation of the dataset\n",
    "mean = data_loader.dataset.data.float().mean() / max_val\n",
    "std = data_loader.dataset.data.float().std() / max_val\n",
    "print(f'Mean: {mean}, Std: {std}')"
   ]
  },
  {
   "cell_type": "code",
   "execution_count": 9,
   "id": "fe2239f9",
   "metadata": {},
   "outputs": [],
   "source": [
    "# Now we can create a new transform pipeline that normalizes the data\n",
    "transform_pipeline_final = transforms.Compose([\n",
    "    transforms.ToTensor(),\n",
    "    transforms.Normalize((mean.item(),), (std.item(),))\n",
    "])\n",
    "# Create a new dataset with the normalized data\n",
    "fashionMnist_norm = datasets.FashionMNIST('./data', train=True, download=True, transform=transform_pipeline_final)"
   ]
  },
  {
   "cell_type": "code",
   "execution_count": 10,
   "id": "7830aa9f",
   "metadata": {},
   "outputs": [],
   "source": [
    "# create a new data loader\n",
    "data_loader_final = torch.utils.data.DataLoader(fashionMnist_norm,batch_size=1000, shuffle=True)"
   ]
  },
  {
   "cell_type": "code",
   "execution_count": 11,
   "id": "1bcce38c",
   "metadata": {},
   "outputs": [
    {
     "name": "stdout",
     "output_type": "stream",
     "text": [
      "Inspecting the actual transformed data from the DataLoader:\n",
      "Shape of image batch: torch.Size([1000, 1, 28, 28])\n",
      "Min pixel value (after ToTensor and Normalize): -0.8103\n",
      "Max pixel value (after ToTensor and Normalize): 2.0224\n",
      "Mean of first image in batch: 0.0434\n",
      "Std of first image in batch: 0.9084\n"
     ]
    }
   ],
   "source": [
    "print(\"Inspecting the actual transformed data from the DataLoader:\")\n",
    "input_shape = None\n",
    "for images, labels in data_loader_final:\n",
    "    # `images` here is the batch of data *after* all transforms have been applied\n",
    "    input_shape = images.shape\n",
    "    print(f\"Shape of image batch: {input_shape}\")\n",
    "    print(f\"Min pixel value (after ToTensor and Normalize): {images.min().item():.4f}\")\n",
    "    print(f\"Max pixel value (after ToTensor and Normalize): {images.max().item():.4f}\")\n",
    "    print(f\"Mean of first image in batch: {images[0].mean().item():.4f}\")\n",
    "    print(f\"Std of first image in batch: {images[0].std().item():.4f}\")\n",
    "    break # Just look at the first batch"
   ]
  },
  {
   "cell_type": "code",
   "execution_count": 12,
   "id": "e058da78",
   "metadata": {},
   "outputs": [
    {
     "data": {
      "text/plain": [
       "1"
      ]
     },
     "execution_count": 12,
     "metadata": {},
     "output_type": "execute_result"
    }
   ],
   "source": [
    "number_classes = np.size(data_loader_final.dataset.classes)\n",
    "input_shape[1]"
   ]
  },
  {
   "cell_type": "code",
   "execution_count": null,
   "id": "063a6aef",
   "metadata": {},
   "outputs": [],
   "source": []
  },
  {
   "cell_type": "markdown",
   "id": "de831555",
   "metadata": {},
   "source": [
    "### 2. Build the model"
   ]
  },
  {
   "cell_type": "markdown",
   "id": "6261bb57",
   "metadata": {},
   "source": [
    "#### A simple CNN model\n",
    "Conv -> ReLu -> Maxpool -> Conv -> ReLu  -> Maxpool -> Flatten -> Linear -> ReLu -> Linear \n",
    "\n",
    "*Bold parameter values are learnable and here serve for the explanation and as a start point.*\n",
    "\n",
    "- input image is: (1,28,28). So each image has 1 channel and 28x28 pixels.  \n",
    "- Conv layer will take the input image and apply a filter to it. The filter will slide over the image and produce a feature map.  \n",
    "  we use *32* filters of size *3x3*, padding *1* and stride *1* ensure that the output size is the same as the input size.   \n",
    "  Dimensions: (32,28,28)  \n",
    "- Maxpool layer will take the feature map and reduce its size by taking the maximum value in each 2x2 block.  \n",
    "    Kernel size controls the factor of the dimension reduction. A kernel size of *2* will reduce the size by a factor of 2.  \n",
    "    Dimensions: (32,14,14)  \n",
    "- Conv layer will take the feature map and apply a filter to it. The filter will slide over the image and produce a feature map.  \n",
    "    we use *64* filters of size *3x3*, padding *1* and stride *1* ensure that the output size is the same as the input size.   \n",
    "    Dimensions: (64,14,14)  \n",
    "- Maxpool layer will take the feature map and reduce its size by taking the maximum value in each 2x2 block.  \n",
    "    Dimensions: (64,7,7)    \n",
    "(here we flatten the images but it's not included in the architecture)     \n",
    "- Fully connected layer that takes the flattened features and processes them  \n",
    " Input size == Flattened size == 64*7*7 == 3136  \n",
    " Output size == *128*  \n",
    "- Fully connected layer that takes the output of the previous layer and processes it  \n",
    " Input size == *128* (in the sense that the output of the previous layer is the input of this layer)   \n",
    " Output size == 10 (number of classes)  \n",
    "\n",
    "\n"
   ]
  },
  {
   "cell_type": "code",
   "execution_count": 13,
   "id": "556adaf5",
   "metadata": {},
   "outputs": [
    {
     "data": {
      "text/plain": [
       "7"
      ]
     },
     "execution_count": 13,
     "metadata": {},
     "output_type": "execute_result"
    }
   ],
   "source": [
    "28//4"
   ]
  },
  {
   "cell_type": "code",
   "execution_count": 14,
   "id": "680a69e8",
   "metadata": {},
   "outputs": [],
   "source": [
    "class SimpleCNN(torch.nn.Module):\n",
    "    def __init__(self,input_shape:torch.Tensor, num_classes:int,kernel_size:int=3, stride:int=1):\n",
    "        super(SimpleCNN, self).__init__()\n",
    "        padding = kernel_size // 2 if stride == 1 else 0\n",
    "        max_pool_kernel = 2\n",
    "        in_channel = input_shape[1]\n",
    "        w,h = input_shape[2], input_shape[3]\n",
    "        self.conv1 = torch.nn.Conv2d(in_channels=in_channel, out_channels=32, kernel_size=kernel_size, stride=1, padding=padding)\n",
    "        self.maxpool1 = torch.nn.MaxPool2d(kernel_size=max_pool_kernel, stride=2)\n",
    "        self.conv2 = torch.nn.Conv2d(in_channels=32, out_channels=64, kernel_size=kernel_size, stride=1, padding=padding)\n",
    "        self.maxpool2 = torch.nn.MaxPool2d(kernel_size=max_pool_kernel, stride=2)\n",
    "        self.fc1 = torch.nn.Linear(in_features=64* (w//(2*max_pool_kernel))*(h//(2*max_pool_kernel)), out_features=128)\n",
    "        self.fc2 = torch.nn.Linear(in_features=128, out_features=num_classes)\n",
    "\n",
    "    def forward(self, x):\n",
    "        x = self.conv1(x)\n",
    "        x = torch.nn.functional.relu(x)\n",
    "        x = self.maxpool1(x)\n",
    "        x = self.conv2(x)\n",
    "        x = torch.nn.functional.relu(x)\n",
    "        x = self.maxpool2(x)\n",
    "        x = torch.flatten(x, 1)\n",
    "        x = self.fc1(x)\n",
    "        x = torch.nn.functional.relu(x)\n",
    "        x = self.fc2(x)\n",
    "        return x\n",
    "\n",
    "        \n",
    "        "
   ]
  },
  {
   "cell_type": "markdown",
   "id": "539149d9",
   "metadata": {},
   "source": [
    "### 3. Train the model "
   ]
  },
  {
   "cell_type": "markdown",
   "id": "7df5f8cd",
   "metadata": {},
   "source": [
    "Since we are dealing with a multi-class classification problem, we will use the CrossEntropyLoss function.\n",
    "The CrossEntropyLoss function combines the softmax activation function and the negative log-likelihood loss function.\n",
    "It uses logits directly and output the probabilities of each class. So we can see the output as a probability distribution over the classes.\n",
    "Sensitive to class imbalance. --> we will check if we have any, if so we can use the class weights to balance the loss function.\n",
    "\n",
    "For the optimzer, we will use the Adam optimizer. It is a popular choice for training deep learning models. It is an adaptive learning rate optimization algorithm that can be used instead of the classical stochastic gradient descent (SGD) method. Great starting point for most problems.\n"
   ]
  },
  {
   "cell_type": "code",
   "execution_count": 15,
   "id": "9fa03246",
   "metadata": {},
   "outputs": [
    {
     "name": "stdout",
     "output_type": "stream",
     "text": [
      "MPS (Metal Performance Shaders) is available! Using GPU.\n"
     ]
    }
   ],
   "source": [
    "# Check if MPS is available\n",
    "if torch.backends.mps.is_available():\n",
    "    print(\"MPS (Metal Performance Shaders) is available! Using GPU.\")\n",
    "    device = torch.device(\"mps\")\n",
    "else:\n",
    "    print(\"MPS is not available. Falling back to CPU.\")\n",
    "    device = torch.device(\"cpu\")"
   ]
  },
  {
   "cell_type": "code",
   "execution_count": 16,
   "id": "a0f794af",
   "metadata": {},
   "outputs": [
    {
     "data": {
      "text/plain": [
       "tensor([6000, 6000, 6000, 6000, 6000, 6000, 6000, 6000, 6000, 6000])"
      ]
     },
     "execution_count": 16,
     "metadata": {},
     "output_type": "execute_result"
    }
   ],
   "source": [
    "# check for class imbalance\n",
    "data_loader_final.dataset.targets.bincount()"
   ]
  },
  {
   "cell_type": "markdown",
   "id": "77d4d130",
   "metadata": {},
   "source": [
    "No imbalance in the dataset."
   ]
  },
  {
   "cell_type": "code",
   "execution_count": 17,
   "id": "41b937cb",
   "metadata": {},
   "outputs": [
    {
     "data": {
      "text/plain": [
       "SimpleCNN(\n",
       "  (conv1): Conv2d(1, 32, kernel_size=(3, 3), stride=(1, 1), padding=(1, 1))\n",
       "  (maxpool1): MaxPool2d(kernel_size=2, stride=2, padding=0, dilation=1, ceil_mode=False)\n",
       "  (conv2): Conv2d(32, 64, kernel_size=(3, 3), stride=(1, 1), padding=(1, 1))\n",
       "  (maxpool2): MaxPool2d(kernel_size=2, stride=2, padding=0, dilation=1, ceil_mode=False)\n",
       "  (fc1): Linear(in_features=3136, out_features=128, bias=True)\n",
       "  (fc2): Linear(in_features=128, out_features=10, bias=True)\n",
       ")"
      ]
     },
     "execution_count": 17,
     "metadata": {},
     "output_type": "execute_result"
    }
   ],
   "source": [
    "# instance of the model and send it to device\n",
    "model = SimpleCNN(input_shape, number_classes)\n",
    "model.to(device)"
   ]
  },
  {
   "cell_type": "code",
   "execution_count": 18,
   "id": "89ee4804",
   "metadata": {},
   "outputs": [],
   "source": [
    "# define loss function and optimizer\n",
    "loss_fn = torch.nn.CrossEntropyLoss()\n",
    "optimizer = torch.optim.Adam(model.parameters(), lr=0.001)"
   ]
  },
  {
   "cell_type": "code",
   "execution_count": 19,
   "id": "ee90b7d7",
   "metadata": {},
   "outputs": [],
   "source": [
    "# train/val split \n",
    "train_size = int(0.8 * len(data_loader_final.dataset))\n",
    "val_size = len(data_loader_final.dataset) - train_size\n",
    "train_dataset, val_dataset = random_split(data_loader_final.dataset, [train_size, val_size])\n",
    "train_loader = torch.utils.data.DataLoader(train_dataset, batch_size=64, shuffle=True)\n",
    "val_loader = torch.utils.data.DataLoader(val_dataset, batch_size=64, shuffle=False)\n"
   ]
  },
  {
   "cell_type": "code",
   "execution_count": 20,
   "id": "e850fe9e",
   "metadata": {},
   "outputs": [],
   "source": [
    "#training parameters \n",
    "num_epochs = 5\n",
    "train_loss = []\n",
    "val_loss = []\n",
    "train_acc = []\n",
    "val_acc = []\n"
   ]
  },
  {
   "cell_type": "code",
   "execution_count": 30,
   "id": "0e5841e7",
   "metadata": {},
   "outputs": [],
   "source": [
    "# train the model \n",
    "def train_model(model, batch_size, num_epochs, lr):\n",
    "    train_size = int(0.8 * len(data_loader_final.dataset))\n",
    "    val_size = len(data_loader_final.dataset) - train_size\n",
    "    train_dataset, val_dataset = random_split(data_loader_final.dataset, [train_size, val_size])\n",
    "    train_loader = torch.utils.data.DataLoader(train_dataset, batch_size=batch_size, shuffle=True)\n",
    "    val_loader = torch.utils.data.DataLoader(val_dataset, batch_size=batch_size, shuffle=False)\n",
    "    optimizer = torch.optim.Adam(model.parameters(), lr=lr)\n",
    "    loss_fn = torch.nn.CrossEntropyLoss()\n",
    "    device = torch.device(\"mps\" if torch.backends.mps.is_available() else \"cpu\")\n",
    "    model.to(device)\n",
    "    for epoch in range(num_epochs):\n",
    "        # training phase \n",
    "        model.train()\n",
    "        training_running_loss = 0.0\n",
    "        training_running_correct = 0\n",
    "        training_running_total = 0\n",
    "        for images, labels in train_loader:\n",
    "            images, labels = images.to(device), labels.to(device)\n",
    "            optimizer.zero_grad()\n",
    "            outputs = model(images)\n",
    "            loss = loss_fn(outputs, labels)\n",
    "            loss.backward()\n",
    "            optimizer.step()\n",
    "            \n",
    "            training_running_loss += loss.item()\n",
    "            _, predicted = torch.max(outputs.data, 1)\n",
    "            training_running_total += labels.size(0)\n",
    "            training_running_correct += (predicted == labels).sum().item()\n",
    "        \n",
    "        avg_epoch_loss = training_running_loss / len(train_loader)\n",
    "        avg_epoch_acc = training_running_correct / training_running_total\n",
    "        train_loss.append(avg_epoch_loss)\n",
    "        train_acc.append(avg_epoch_acc)\n",
    "        print(f\"Epoch {epoch+1}/{num_epochs}, Training Loss: {avg_epoch_loss:.4f}, Training Accuracy: {avg_epoch_acc:.4f}\")\n",
    "\n",
    "        # validation phase\n",
    "        model.eval()\n",
    "        validation_running_loss = 0.0\n",
    "        validation_running_correct = 0\n",
    "        validation_running_total = 0\n",
    "        with torch.no_grad():\n",
    "            for images, labels in val_loader:\n",
    "                images, labels = images.to(device), labels.to(device)\n",
    "                outputs = model(images)\n",
    "                loss = loss_fn(outputs, labels)\n",
    "                \n",
    "                validation_running_loss += loss.item()\n",
    "                _, predicted = torch.max(outputs.data, 1)\n",
    "                validation_running_total += labels.size(0)\n",
    "                validation_running_correct += (predicted == labels).sum().item()\n",
    "        validation_avg_epoch_loss = validation_running_loss / len(val_loader)\n",
    "        validation_avg_epoch_acc = validation_running_correct / validation_running_total\n",
    "        val_loss.append(validation_avg_epoch_loss)\n",
    "        val_acc.append(validation_avg_epoch_acc)\n",
    "        print(f\"Epoch {epoch+1}/{num_epochs}, Validation Loss: {validation_avg_epoch_loss:.4f}, Validation Accuracy: {validation_avg_epoch_acc:.4f}\")\n",
    "        print(\"-----------------------------------------------------\")\n",
    "    \n",
    "\n"
   ]
  },
  {
   "cell_type": "markdown",
   "id": "3219522f",
   "metadata": {},
   "source": [
    "### 4. Evaluate the model\n",
    "- check the training and validation loss and accuracy. Overfitting?\n",
    "- Check the accuracy of the model on the test set."
   ]
  },
  {
   "cell_type": "code",
   "execution_count": 22,
   "id": "a8226b97",
   "metadata": {},
   "outputs": [
    {
     "data": {
      "image/png": "[encoded data removed]",
      "text/plain": [
       "<Figure size 1000x500 with 1 Axes>"
      ]
     },
     "metadata": {},
     "output_type": "display_data"
    }
   ],
   "source": [
    "import matplotlib.pyplot as plt\n",
    "fig1 = plt.figure(figsize=(10, 5))\n",
    "plt.plot(train_loss, label='Training Loss')\n",
    "plt.plot(val_loss, label='Validation Loss')\n",
    "plt.title('Training and Validation Loss')\n",
    "plt.xlabel('Epochs')\n",
    "plt.ylabel('Loss')\n",
    "plt.legend()\n",
    "plt.show()"
   ]
  },
  {
   "cell_type": "code",
   "execution_count": 23,
   "id": "11c8211c",
   "metadata": {},
   "outputs": [],
   "source": [
    "test = datasets.FashionMNIST('./data', train=False, download=True, transform=transform_pipeline_final)\n",
    "test_loader = torch.utils.data.DataLoader(test, batch_size=64, shuffle=False)"
   ]
  },
  {
   "cell_type": "code",
   "execution_count": 24,
   "id": "9e353df2",
   "metadata": {},
   "outputs": [
    {
     "name": "stdout",
     "output_type": "stream",
     "text": [
      "Test Loss: 0.2555, Test Accuracy: 0.9114\n",
      "-----------------------------------------------------\n"
     ]
    }
   ],
   "source": [
    "# test on the test set\n",
    "test_running_loss = 0.0\n",
    "test_running_correct = 0\n",
    "test_running_total = 0\n",
    "\n",
    "for images, labels in test_loader:\n",
    "    images, labels = images.to(device), labels.to(device)\n",
    "    outputs = model(images)\n",
    "    _, predicted = torch.max(outputs.data, 1)\n",
    "    loss = loss_fn(outputs, labels)\n",
    "    test_running_loss += loss.item()\n",
    "    test_running_total += labels.size(0)\n",
    "    test_running_correct += (predicted == labels).sum().item()\n",
    "    #print(f\"Predicted: {predicted}, Actual: {labels}\")\n",
    "    \n",
    "avg_test_loss = test_running_loss / len(test_loader)\n",
    "avg_test_acc = test_running_correct / test_running_total\n",
    "print(f\"Test Loss: {avg_test_loss:.4f}, Test Accuracy: {avg_test_acc:.4f}\")\n",
    "print(\"-----------------------------------------------------\")\n"
   ]
  },
  {
   "cell_type": "markdown",
   "id": "5f50fe08",
   "metadata": {},
   "source": [
    "### 5. Hyperparameter tuning \n",
    "We use the Optuna library to tune the hyperparameters of the model.\n",
    "- Batch size\n",
    "- learning rate\n",
    "- number of epochs\n",
    "- optmizer\n",
    "\n",
    "Architecture of the model:\n",
    "- size of the kernels\n",
    "- number of filters\n",
    "- early stopping ? \n",
    "\n",
    "First will start with a simple study that will modify the hyperparameters outside of the model. We won't change the architecture of the model. \n"
   ]
  },
  {
   "cell_type": "code",
   "execution_count": 25,
   "id": "295ae0ba",
   "metadata": {},
   "outputs": [],
   "source": [
    "# create a function to run the training and validation process \n",
    "def objective(trial,**args):\n",
    "    # Define the hyperparameters \n",
    "    batch_size = trial.suggest_int('batch_size', 16,256,16)\n",
    "    num_epochs= trial.suggest_int('num_epochs', 5,25,5)\n",
    "    learning_rate = trial.suggest_float('learning_rate', 1e-5, 1e-2, log=True)\n",
    "\n",
    "    # Optimizer seems to have largest impact and Adam was generally better than SGD in preliminary tests. \n",
    "    #optimizer_trial = optimizer_name = trial.suggest_categorical(\"optimizer\", [\"Adam\", \"SGD\"])\n",
    "    \n",
    "\n",
    "    #device setup \n",
    "    device = torch.device(\"mps\") if torch.backends.mps.is_available() else torch.device(\"cpu\")\n",
    "    print(f\"Trial {trial.number}: Using device: {device}, LR: {learning_rate:.6f}, Batch Size: {batch_size}, Epochs: {num_epochs}\")\n",
    "\n",
    "    # Load data and split into train and validation sets then create data loaders\n",
    "    full_train_dataset = datasets.FashionMNIST('./data', train=True, download=True, transform=transform_pipeline_final)\n",
    "    train_size = int(0.8 * len(full_train_dataset)) \n",
    "    val_size = len(full_train_dataset) - train_size\n",
    "\n",
    "    train_dataset, val_dataset = random_split(full_train_dataset, [train_size, val_size])\n",
    "    train_loader = torch.utils.data.DataLoader(train_dataset, batch_size=batch_size, shuffle=True)\n",
    "    val_loader = torch.utils.data.DataLoader(val_dataset, batch_size=batch_size, shuffle=False)\n",
    "\n",
    "    input_shape = None\n",
    "    for images, labels in train_loader:\n",
    "        input_shape = images.shape\n",
    "        break\n",
    "\n",
    "    number_classes = np.size(train_loader.dataset.dataset.classes)\n",
    "\n",
    "    # Initialize the model\n",
    "    model = SimpleCNN(input_shape, number_classes)\n",
    "    model.to(device)\n",
    "\n",
    "    # Define loss function and optimizer\n",
    "    loss_fn = torch.nn.CrossEntropyLoss()\n",
    "    optimizer = torch.optim.Adam(model.parameters(), lr=learning_rate)\n",
    "\n",
    "    \n",
    "    # train the model \n",
    "    best_val_accuracy = 0.0 # To track best performance for pruning\n",
    "    for epoch in range(num_epochs):\n",
    "        # Training Phase\n",
    "        model.train()\n",
    "        running_train_loss = 0.0\n",
    "        correct_train_predictions = 0\n",
    "        total_train_samples = 0\n",
    "\n",
    "        for images, labels in train_loader:\n",
    "            images, labels = images.to(device), labels.to(device)\n",
    "            optimizer.zero_grad()\n",
    "            outputs = model(images)\n",
    "            loss = loss_fn(outputs, labels)\n",
    "            loss.backward()\n",
    "            optimizer.step()\n",
    "\n",
    "            running_train_loss += loss.item()\n",
    "            _, predicted = torch.max(outputs.data, 1)\n",
    "            total_train_samples += labels.size(0)\n",
    "            correct_train_predictions += (predicted == labels).sum().item()\n",
    "\n",
    "        avg_train_loss = running_train_loss / len(train_loader)\n",
    "        train_accuracy = 100 * correct_train_predictions / total_train_samples\n",
    "\n",
    "        # Validation Phase\n",
    "        model.eval()\n",
    "        running_val_loss = 0.0\n",
    "        correct_val_predictions = 0\n",
    "        total_val_samples = 0\n",
    "        with torch.no_grad():\n",
    "            for images, labels in val_loader:\n",
    "                images, labels = images.to(device), labels.to(device)\n",
    "                outputs = model(images)\n",
    "                loss = loss_fn(outputs, labels)\n",
    "                running_val_loss += loss.item()\n",
    "\n",
    "                _, predicted = torch.max(outputs.data, 1)\n",
    "                total_val_samples += labels.size(0)\n",
    "                correct_val_predictions += (predicted == labels).sum().item()\n",
    "\n",
    "        avg_val_loss = running_val_loss / len(val_loader)\n",
    "        val_accuracy = 100 * correct_val_predictions / total_val_samples\n",
    "\n",
    "        print(f\"  Epoch {epoch+1}: Train Loss = {avg_train_loss:.4f}, Train Acc = {train_accuracy:.2f}% | Val Loss = {avg_val_loss:.4f}, Val Acc = {val_accuracy:.2f}%\")\n",
    "\n",
    "       \n",
    "        best_val_accuracy = max(best_val_accuracy, val_accuracy)\n",
    "        trial.report(val_accuracy, epoch)\n",
    "\n",
    "        if trial.should_prune():\n",
    "            raise optuna.exceptions.TrialPruned()\n",
    "\n",
    "    return best_val_accuracy\n",
    "\n",
    "    "
   ]
  },
  {
   "cell_type": "code",
   "execution_count": 26,
   "id": "28a35315",
   "metadata": {},
   "outputs": [
    {
     "name": "stderr",
     "output_type": "stream",
     "text": [
      "[I 2025-05-26 14:19:07,817] Using an existing study with name 'fashion_mnist_cnn_hpo_study' instead of creating a new one.\n",
      "/var/folders/07/cbtj5f0s2_v0hy9qt2t1zqgc0000gn/T/ipykernel_4421/1134657496.py:4: FutureWarning: suggest_int() got {'step'} as positional arguments but they were expected to be given as keyword arguments.\n",
      "  batch_size = trial.suggest_int('batch_size', 16,256,16)\n",
      "/var/folders/07/cbtj5f0s2_v0hy9qt2t1zqgc0000gn/T/ipykernel_4421/1134657496.py:5: FutureWarning: suggest_int() got {'step'} as positional arguments but they were expected to be given as keyword arguments.\n",
      "  num_epochs= trial.suggest_int('num_epochs', 5,25,5)\n"
     ]
    },
    {
     "name": "stdout",
     "output_type": "stream",
     "text": [
      "\n",
      "--- Starting Optuna Hyperparameter Optimization ---\n",
      "Trial 20: Using device: mps, LR: 0.000719, Batch Size: 112, Epochs: 25\n",
      "  Epoch 1: Train Loss = 0.5000, Train Acc = 82.17% | Val Loss = 0.3542, Val Acc = 87.55%\n",
      "  Epoch 2: Train Loss = 0.3190, Train Acc = 88.41% | Val Loss = 0.2984, Val Acc = 89.42%\n",
      "  Epoch 3: Train Loss = 0.2666, Train Acc = 90.39% | Val Loss = 0.2933, Val Acc = 89.22%\n",
      "  Epoch 4: Train Loss = 0.2367, Train Acc = 91.41% | Val Loss = 0.2552, Val Acc = 90.88%\n",
      "  Epoch 5: Train Loss = 0.2103, Train Acc = 92.37% | Val Loss = 0.2450, Val Acc = 91.21%\n",
      "  Epoch 6: Train Loss = 0.1896, Train Acc = 93.04% | Val Loss = 0.2711, Val Acc = 89.90%\n",
      "  Epoch 7: Train Loss = 0.1725, Train Acc = 93.71% | Val Loss = 0.2193, Val Acc = 92.15%\n",
      "  Epoch 8: Train Loss = 0.1515, Train Acc = 94.44% | Val Loss = 0.2234, Val Acc = 92.11%\n",
      "  Epoch 9: Train Loss = 0.1341, Train Acc = 95.07% | Val Loss = 0.2238, Val Acc = 92.22%\n",
      "  Epoch 10: Train Loss = 0.1192, Train Acc = 95.65% | Val Loss = 0.2431, Val Acc = 91.78%\n",
      "  Epoch 11: Train Loss = 0.1045, Train Acc = 96.24% | Val Loss = 0.2413, Val Acc = 91.67%\n",
      "  Epoch 12: Train Loss = 0.0928, Train Acc = 96.65% | Val Loss = 0.2405, Val Acc = 92.11%\n",
      "  Epoch 13: Train Loss = 0.0793, Train Acc = 97.22% | Val Loss = 0.2660, Val Acc = 92.05%\n",
      "  Epoch 14: Train Loss = 0.0699, Train Acc = 97.50% | Val Loss = 0.2744, Val Acc = 91.89%\n",
      "  Epoch 15: Train Loss = 0.0594, Train Acc = 97.90% | Val Loss = 0.2779, Val Acc = 92.16%\n",
      "  Epoch 16: Train Loss = 0.0485, Train Acc = 98.32% | Val Loss = 0.2825, Val Acc = 91.92%\n",
      "  Epoch 17: Train Loss = 0.0426, Train Acc = 98.52% | Val Loss = 0.3141, Val Acc = 91.93%\n",
      "  Epoch 18: Train Loss = 0.0396, Train Acc = 98.59% | Val Loss = 0.3275, Val Acc = 91.92%\n",
      "  Epoch 19: Train Loss = 0.0332, Train Acc = 98.92% | Val Loss = 0.3355, Val Acc = 92.04%\n",
      "  Epoch 20: Train Loss = 0.0284, Train Acc = 99.06% | Val Loss = 0.3441, Val Acc = 91.72%\n",
      "  Epoch 21: Train Loss = 0.0241, Train Acc = 99.19% | Val Loss = 0.3708, Val Acc = 92.02%\n",
      "  Epoch 22: Train Loss = 0.0179, Train Acc = 99.39% | Val Loss = 0.3831, Val Acc = 91.68%\n",
      "  Epoch 23: Train Loss = 0.0262, Train Acc = 99.04% | Val Loss = 0.4439, Val Acc = 91.56%\n",
      "  Epoch 24: Train Loss = 0.0164, Train Acc = 99.45% | Val Loss = 0.4071, Val Acc = 91.85%\n"
     ]
    },
    {
     "name": "stderr",
     "output_type": "stream",
     "text": [
      "[I 2025-05-26 14:22:59,727] Trial 20 finished with value: 92.225 and parameters: {'batch_size': 112, 'num_epochs': 25, 'learning_rate': 0.0007190466784194314}. Best is trial 20 with value: 92.225.\n"
     ]
    },
    {
     "name": "stdout",
     "output_type": "stream",
     "text": [
      "  Epoch 25: Train Loss = 0.0173, Train Acc = 99.42% | Val Loss = 0.4017, Val Acc = 91.62%\n",
      "Trial 21: Using device: mps, LR: 0.001106, Batch Size: 112, Epochs: 25\n",
      "  Epoch 1: Train Loss = 0.4639, Train Acc = 83.25% | Val Loss = 0.3202, Val Acc = 88.64%\n",
      "  Epoch 2: Train Loss = 0.2958, Train Acc = 89.30% | Val Loss = 0.2773, Val Acc = 89.85%\n",
      "  Epoch 3: Train Loss = 0.2516, Train Acc = 90.79% | Val Loss = 0.2612, Val Acc = 90.43%\n",
      "  Epoch 4: Train Loss = 0.2181, Train Acc = 91.96% | Val Loss = 0.2334, Val Acc = 91.47%\n",
      "  Epoch 5: Train Loss = 0.1941, Train Acc = 92.70% | Val Loss = 0.2250, Val Acc = 91.80%\n",
      "  Epoch 6: Train Loss = 0.1731, Train Acc = 93.70% | Val Loss = 0.2251, Val Acc = 91.92%\n",
      "  Epoch 7: Train Loss = 0.1495, Train Acc = 94.53% | Val Loss = 0.2341, Val Acc = 91.82%\n",
      "  Epoch 8: Train Loss = 0.1336, Train Acc = 95.10% | Val Loss = 0.2390, Val Acc = 91.63%\n",
      "  Epoch 9: Train Loss = 0.1165, Train Acc = 95.69% | Val Loss = 0.2410, Val Acc = 92.02%\n",
      "  Epoch 10: Train Loss = 0.1015, Train Acc = 96.27% | Val Loss = 0.2407, Val Acc = 92.40%\n",
      "  Epoch 11: Train Loss = 0.0869, Train Acc = 96.80% | Val Loss = 0.2761, Val Acc = 91.52%\n",
      "  Epoch 12: Train Loss = 0.0743, Train Acc = 97.26% | Val Loss = 0.2807, Val Acc = 91.98%\n",
      "  Epoch 13: Train Loss = 0.0642, Train Acc = 97.62% | Val Loss = 0.2687, Val Acc = 91.93%\n",
      "  Epoch 14: Train Loss = 0.0531, Train Acc = 98.06% | Val Loss = 0.3067, Val Acc = 92.22%\n",
      "  Epoch 15: Train Loss = 0.0443, Train Acc = 98.38% | Val Loss = 0.3150, Val Acc = 92.21%\n",
      "  Epoch 16: Train Loss = 0.0404, Train Acc = 98.50% | Val Loss = 0.3378, Val Acc = 91.83%\n",
      "  Epoch 17: Train Loss = 0.0377, Train Acc = 98.65% | Val Loss = 0.3502, Val Acc = 91.74%\n",
      "  Epoch 18: Train Loss = 0.0328, Train Acc = 98.81% | Val Loss = 0.3925, Val Acc = 91.89%\n",
      "  Epoch 19: Train Loss = 0.0243, Train Acc = 99.11% | Val Loss = 0.3755, Val Acc = 92.39%\n",
      "  Epoch 20: Train Loss = 0.0211, Train Acc = 99.27% | Val Loss = 0.4018, Val Acc = 92.04%\n",
      "  Epoch 21: Train Loss = 0.0254, Train Acc = 99.07% | Val Loss = 0.4461, Val Acc = 91.90%\n",
      "  Epoch 22: Train Loss = 0.0216, Train Acc = 99.23% | Val Loss = 0.4247, Val Acc = 92.15%\n",
      "  Epoch 23: Train Loss = 0.0184, Train Acc = 99.34% | Val Loss = 0.4399, Val Acc = 91.78%\n",
      "  Epoch 24: Train Loss = 0.0167, Train Acc = 99.40% | Val Loss = 0.4484, Val Acc = 91.59%\n"
     ]
    },
    {
     "name": "stderr",
     "output_type": "stream",
     "text": [
      "[I 2025-05-26 14:26:47,976] Trial 21 finished with value: 92.4 and parameters: {'batch_size': 112, 'num_epochs': 25, 'learning_rate': 0.0011060294840424371}. Best is trial 21 with value: 92.4.\n"
     ]
    },
    {
     "name": "stdout",
     "output_type": "stream",
     "text": [
      "  Epoch 25: Train Loss = 0.0230, Train Acc = 99.24% | Val Loss = 0.4483, Val Acc = 91.96%\n",
      "Trial 22: Using device: mps, LR: 0.001627, Batch Size: 128, Epochs: 25\n",
      "  Epoch 1: Train Loss = 0.4589, Train Acc = 83.52% | Val Loss = 0.3240, Val Acc = 88.23%\n",
      "  Epoch 2: Train Loss = 0.2913, Train Acc = 89.13% | Val Loss = 0.2672, Val Acc = 90.03%\n",
      "  Epoch 3: Train Loss = 0.2403, Train Acc = 91.17% | Val Loss = 0.2342, Val Acc = 91.52%\n",
      "  Epoch 4: Train Loss = 0.2090, Train Acc = 92.29% | Val Loss = 0.2196, Val Acc = 92.14%\n",
      "  Epoch 5: Train Loss = 0.1813, Train Acc = 93.14% | Val Loss = 0.2074, Val Acc = 92.57%\n",
      "  Epoch 6: Train Loss = 0.1568, Train Acc = 94.15% | Val Loss = 0.2330, Val Acc = 91.68%\n",
      "  Epoch 7: Train Loss = 0.1355, Train Acc = 94.93% | Val Loss = 0.2158, Val Acc = 92.68%\n",
      "  Epoch 8: Train Loss = 0.1147, Train Acc = 95.71% | Val Loss = 0.2350, Val Acc = 92.06%\n",
      "  Epoch 9: Train Loss = 0.0973, Train Acc = 96.38% | Val Loss = 0.2273, Val Acc = 92.73%\n",
      "  Epoch 10: Train Loss = 0.0824, Train Acc = 96.96% | Val Loss = 0.2546, Val Acc = 92.40%\n",
      "  Epoch 11: Train Loss = 0.0686, Train Acc = 97.47% | Val Loss = 0.2746, Val Acc = 92.18%\n",
      "  Epoch 12: Train Loss = 0.0599, Train Acc = 97.84% | Val Loss = 0.2900, Val Acc = 91.47%\n",
      "  Epoch 13: Train Loss = 0.0493, Train Acc = 98.14% | Val Loss = 0.3341, Val Acc = 91.82%\n",
      "  Epoch 14: Train Loss = 0.0422, Train Acc = 98.42% | Val Loss = 0.3547, Val Acc = 91.91%\n",
      "  Epoch 15: Train Loss = 0.0361, Train Acc = 98.69% | Val Loss = 0.3710, Val Acc = 92.08%\n",
      "  Epoch 16: Train Loss = 0.0340, Train Acc = 98.81% | Val Loss = 0.3953, Val Acc = 92.05%\n",
      "  Epoch 17: Train Loss = 0.0353, Train Acc = 98.75% | Val Loss = 0.3982, Val Acc = 91.74%\n",
      "  Epoch 18: Train Loss = 0.0282, Train Acc = 99.01% | Val Loss = 0.4024, Val Acc = 91.87%\n",
      "  Epoch 19: Train Loss = 0.0250, Train Acc = 99.10% | Val Loss = 0.4384, Val Acc = 92.12%\n",
      "  Epoch 20: Train Loss = 0.0245, Train Acc = 99.13% | Val Loss = 0.4480, Val Acc = 91.94%\n",
      "  Epoch 21: Train Loss = 0.0279, Train Acc = 98.97% | Val Loss = 0.5045, Val Acc = 91.67%\n",
      "  Epoch 22: Train Loss = 0.0222, Train Acc = 99.22% | Val Loss = 0.4553, Val Acc = 92.03%\n",
      "  Epoch 23: Train Loss = 0.0214, Train Acc = 99.27% | Val Loss = 0.4502, Val Acc = 92.12%\n",
      "  Epoch 24: Train Loss = 0.0181, Train Acc = 99.36% | Val Loss = 0.4835, Val Acc = 91.97%\n"
     ]
    },
    {
     "name": "stderr",
     "output_type": "stream",
     "text": [
      "[I 2025-05-26 14:30:23,849] Trial 22 finished with value: 92.73333333333333 and parameters: {'batch_size': 128, 'num_epochs': 25, 'learning_rate': 0.0016269594651740216}. Best is trial 22 with value: 92.73333333333333.\n"
     ]
    },
    {
     "name": "stdout",
     "output_type": "stream",
     "text": [
      "  Epoch 25: Train Loss = 0.0189, Train Acc = 99.35% | Val Loss = 0.5391, Val Acc = 92.12%\n",
      "Trial 23: Using device: mps, LR: 0.002064, Batch Size: 144, Epochs: 25\n",
      "  Epoch 1: Train Loss = 0.4564, Train Acc = 83.39% | Val Loss = 0.3431, Val Acc = 87.75%\n",
      "  Epoch 2: Train Loss = 0.2790, Train Acc = 89.84% | Val Loss = 0.2604, Val Acc = 90.69%\n",
      "  Epoch 3: Train Loss = 0.2304, Train Acc = 91.57% | Val Loss = 0.2425, Val Acc = 91.18%\n",
      "  Epoch 4: Train Loss = 0.1978, Train Acc = 92.67% | Val Loss = 0.2455, Val Acc = 91.40%\n",
      "  Epoch 5: Train Loss = 0.1719, Train Acc = 93.56% | Val Loss = 0.2308, Val Acc = 91.95%\n",
      "  Epoch 6: Train Loss = 0.1474, Train Acc = 94.43% | Val Loss = 0.2370, Val Acc = 91.59%\n",
      "  Epoch 7: Train Loss = 0.1264, Train Acc = 95.34% | Val Loss = 0.2474, Val Acc = 91.80%\n",
      "  Epoch 8: Train Loss = 0.1105, Train Acc = 95.87% | Val Loss = 0.2536, Val Acc = 92.08%\n",
      "  Epoch 9: Train Loss = 0.0930, Train Acc = 96.54% | Val Loss = 0.2747, Val Acc = 91.97%\n",
      "  Epoch 10: Train Loss = 0.0807, Train Acc = 97.01% | Val Loss = 0.3163, Val Acc = 90.85%\n",
      "  Epoch 11: Train Loss = 0.0676, Train Acc = 97.52% | Val Loss = 0.3053, Val Acc = 91.75%\n",
      "  Epoch 12: Train Loss = 0.0606, Train Acc = 97.77% | Val Loss = 0.3235, Val Acc = 91.94%\n",
      "  Epoch 13: Train Loss = 0.0512, Train Acc = 98.08% | Val Loss = 0.3487, Val Acc = 92.04%\n",
      "  Epoch 14: Train Loss = 0.0409, Train Acc = 98.52% | Val Loss = 0.3945, Val Acc = 91.53%\n",
      "  Epoch 15: Train Loss = 0.0391, Train Acc = 98.52% | Val Loss = 0.3859, Val Acc = 92.08%\n",
      "  Epoch 16: Train Loss = 0.0341, Train Acc = 98.73% | Val Loss = 0.4132, Val Acc = 91.70%\n",
      "  Epoch 17: Train Loss = 0.0324, Train Acc = 98.81% | Val Loss = 0.4509, Val Acc = 91.37%\n",
      "  Epoch 18: Train Loss = 0.0286, Train Acc = 98.96% | Val Loss = 0.4824, Val Acc = 91.04%\n"
     ]
    },
    {
     "name": "stderr",
     "output_type": "stream",
     "text": [
      "[I 2025-05-26 14:33:01,468] Trial 23 pruned. \n"
     ]
    },
    {
     "name": "stdout",
     "output_type": "stream",
     "text": [
      "  Epoch 19: Train Loss = 0.0347, Train Acc = 98.76% | Val Loss = 0.4999, Val Acc = 91.54%\n",
      "Trial 24: Using device: mps, LR: 0.001205, Batch Size: 112, Epochs: 25\n",
      "  Epoch 1: Train Loss = 0.4565, Train Acc = 83.79% | Val Loss = 0.3581, Val Acc = 87.08%\n",
      "  Epoch 2: Train Loss = 0.2960, Train Acc = 89.34% | Val Loss = 0.2787, Val Acc = 89.84%\n",
      "  Epoch 3: Train Loss = 0.2480, Train Acc = 90.96% | Val Loss = 0.2507, Val Acc = 90.71%\n",
      "  Epoch 4: Train Loss = 0.2156, Train Acc = 92.14% | Val Loss = 0.2591, Val Acc = 90.64%\n",
      "  Epoch 5: Train Loss = 0.1896, Train Acc = 93.04% | Val Loss = 0.2308, Val Acc = 91.46%\n",
      "  Epoch 6: Train Loss = 0.1651, Train Acc = 93.91% | Val Loss = 0.2370, Val Acc = 91.48%\n",
      "  Epoch 7: Train Loss = 0.1458, Train Acc = 94.54% | Val Loss = 0.2325, Val Acc = 91.99%\n",
      "  Epoch 8: Train Loss = 0.1274, Train Acc = 95.23% | Val Loss = 0.2527, Val Acc = 91.26%\n",
      "  Epoch 9: Train Loss = 0.1099, Train Acc = 95.94% | Val Loss = 0.2449, Val Acc = 92.00%\n",
      "  Epoch 10: Train Loss = 0.0944, Train Acc = 96.51% | Val Loss = 0.2521, Val Acc = 91.74%\n",
      "  Epoch 11: Train Loss = 0.0810, Train Acc = 96.98% | Val Loss = 0.2631, Val Acc = 91.85%\n",
      "  Epoch 12: Train Loss = 0.0637, Train Acc = 97.72% | Val Loss = 0.2791, Val Acc = 92.06%\n",
      "  Epoch 13: Train Loss = 0.0572, Train Acc = 97.95% | Val Loss = 0.2798, Val Acc = 92.20%\n",
      "  Epoch 14: Train Loss = 0.0495, Train Acc = 98.24% | Val Loss = 0.3308, Val Acc = 91.19%\n",
      "  Epoch 15: Train Loss = 0.0435, Train Acc = 98.41% | Val Loss = 0.3316, Val Acc = 91.98%\n",
      "  Epoch 16: Train Loss = 0.0367, Train Acc = 98.67% | Val Loss = 0.3630, Val Acc = 91.81%\n",
      "  Epoch 17: Train Loss = 0.0329, Train Acc = 98.82% | Val Loss = 0.3830, Val Acc = 91.49%\n",
      "  Epoch 18: Train Loss = 0.0254, Train Acc = 99.09% | Val Loss = 0.4035, Val Acc = 91.91%\n",
      "  Epoch 19: Train Loss = 0.0252, Train Acc = 99.07% | Val Loss = 0.4299, Val Acc = 91.34%\n",
      "  Epoch 20: Train Loss = 0.0288, Train Acc = 98.96% | Val Loss = 0.4110, Val Acc = 91.87%\n",
      "  Epoch 21: Train Loss = 0.0183, Train Acc = 99.37% | Val Loss = 0.4346, Val Acc = 91.74%\n",
      "  Epoch 22: Train Loss = 0.0161, Train Acc = 99.42% | Val Loss = 0.4729, Val Acc = 91.39%\n",
      "  Epoch 23: Train Loss = 0.0245, Train Acc = 99.14% | Val Loss = 0.4655, Val Acc = 91.97%\n",
      "  Epoch 24: Train Loss = 0.0191, Train Acc = 99.27% | Val Loss = 0.5183, Val Acc = 91.62%\n"
     ]
    },
    {
     "name": "stderr",
     "output_type": "stream",
     "text": [
      "[I 2025-05-26 14:36:48,736] Trial 24 finished with value: 92.2 and parameters: {'batch_size': 112, 'num_epochs': 25, 'learning_rate': 0.001205060961851098}. Best is trial 22 with value: 92.73333333333333.\n"
     ]
    },
    {
     "name": "stdout",
     "output_type": "stream",
     "text": [
      "  Epoch 25: Train Loss = 0.0195, Train Acc = 99.30% | Val Loss = 0.4774, Val Acc = 91.94%\n",
      "Trial 25: Using device: mps, LR: 0.009390, Batch Size: 176, Epochs: 20\n",
      "  Epoch 1: Train Loss = 0.5375, Train Acc = 80.93% | Val Loss = 0.3752, Val Acc = 86.31%\n",
      "  Epoch 2: Train Loss = 0.3401, Train Acc = 87.59% | Val Loss = 0.3312, Val Acc = 87.79%\n",
      "  Epoch 3: Train Loss = 0.3066, Train Acc = 88.67% | Val Loss = 0.3178, Val Acc = 87.97%\n",
      "  Epoch 4: Train Loss = 0.2864, Train Acc = 89.36% | Val Loss = 0.3131, Val Acc = 88.64%\n",
      "  Epoch 5: Train Loss = 0.2723, Train Acc = 89.82% | Val Loss = 0.3046, Val Acc = 89.00%\n",
      "  Epoch 6: Train Loss = 0.2618, Train Acc = 90.18% | Val Loss = 0.3012, Val Acc = 89.10%\n"
     ]
    },
    {
     "name": "stderr",
     "output_type": "stream",
     "text": [
      "[I 2025-05-26 14:37:44,773] Trial 25 pruned. \n"
     ]
    },
    {
     "name": "stdout",
     "output_type": "stream",
     "text": [
      "  Epoch 7: Train Loss = 0.2564, Train Acc = 90.39% | Val Loss = 0.3218, Val Acc = 88.11%\n",
      "Trial 26: Using device: mps, LR: 0.000613, Batch Size: 112, Epochs: 20\n",
      "  Epoch 1: Train Loss = 0.5038, Train Acc = 82.11% | Val Loss = 0.3443, Val Acc = 87.66%\n",
      "  Epoch 2: Train Loss = 0.3254, Train Acc = 88.24% | Val Loss = 0.3037, Val Acc = 89.18%\n",
      "  Epoch 3: Train Loss = 0.2846, Train Acc = 89.70% | Val Loss = 0.2784, Val Acc = 90.22%\n",
      "  Epoch 4: Train Loss = 0.2549, Train Acc = 90.77% | Val Loss = 0.2567, Val Acc = 90.62%\n",
      "  Epoch 5: Train Loss = 0.2317, Train Acc = 91.54% | Val Loss = 0.2443, Val Acc = 91.26%\n",
      "  Epoch 6: Train Loss = 0.2116, Train Acc = 92.30% | Val Loss = 0.2512, Val Acc = 91.03%\n",
      "  Epoch 7: Train Loss = 0.1905, Train Acc = 92.91% | Val Loss = 0.2611, Val Acc = 90.50%\n",
      "  Epoch 8: Train Loss = 0.1786, Train Acc = 93.44% | Val Loss = 0.2402, Val Acc = 91.38%\n",
      "  Epoch 9: Train Loss = 0.1648, Train Acc = 93.97% | Val Loss = 0.2419, Val Acc = 91.29%\n",
      "  Epoch 10: Train Loss = 0.1498, Train Acc = 94.53% | Val Loss = 0.2231, Val Acc = 92.13%\n",
      "  Epoch 11: Train Loss = 0.1353, Train Acc = 94.99% | Val Loss = 0.2380, Val Acc = 91.86%\n",
      "  Epoch 12: Train Loss = 0.1225, Train Acc = 95.54% | Val Loss = 0.2497, Val Acc = 91.35%\n",
      "  Epoch 13: Train Loss = 0.1100, Train Acc = 96.00% | Val Loss = 0.2430, Val Acc = 91.98%\n",
      "  Epoch 14: Train Loss = 0.0991, Train Acc = 96.40% | Val Loss = 0.2478, Val Acc = 91.72%\n",
      "  Epoch 15: Train Loss = 0.0882, Train Acc = 96.85% | Val Loss = 0.2567, Val Acc = 91.97%\n",
      "  Epoch 16: Train Loss = 0.0788, Train Acc = 97.17% | Val Loss = 0.2641, Val Acc = 91.67%\n",
      "  Epoch 17: Train Loss = 0.0713, Train Acc = 97.43% | Val Loss = 0.2564, Val Acc = 92.01%\n",
      "  Epoch 18: Train Loss = 0.0609, Train Acc = 97.79% | Val Loss = 0.2814, Val Acc = 92.03%\n",
      "  Epoch 19: Train Loss = 0.0513, Train Acc = 98.17% | Val Loss = 0.2908, Val Acc = 91.77%\n"
     ]
    },
    {
     "name": "stderr",
     "output_type": "stream",
     "text": [
      "[I 2025-05-26 14:40:47,673] Trial 26 finished with value: 92.13333333333334 and parameters: {'batch_size': 112, 'num_epochs': 20, 'learning_rate': 0.0006126193155533825}. Best is trial 22 with value: 92.73333333333333.\n"
     ]
    },
    {
     "name": "stdout",
     "output_type": "stream",
     "text": [
      "  Epoch 20: Train Loss = 0.0447, Train Acc = 98.46% | Val Loss = 0.3158, Val Acc = 91.89%\n",
      "Trial 27: Using device: mps, LR: 0.000226, Batch Size: 112, Epochs: 25\n",
      "  Epoch 1: Train Loss = 0.6186, Train Acc = 78.94% | Val Loss = 0.4323, Val Acc = 85.01%\n",
      "  Epoch 2: Train Loss = 0.3932, Train Acc = 85.94% | Val Loss = 0.3642, Val Acc = 86.95%\n",
      "  Epoch 3: Train Loss = 0.3447, Train Acc = 87.78% | Val Loss = 0.3442, Val Acc = 87.91%\n",
      "  Epoch 4: Train Loss = 0.3152, Train Acc = 88.86% | Val Loss = 0.3054, Val Acc = 89.47%\n",
      "  Epoch 5: Train Loss = 0.2966, Train Acc = 89.47% | Val Loss = 0.3002, Val Acc = 89.58%\n",
      "  Epoch 6: Train Loss = 0.2788, Train Acc = 89.94% | Val Loss = 0.2898, Val Acc = 89.60%\n",
      "  Epoch 7: Train Loss = 0.2636, Train Acc = 90.44% | Val Loss = 0.2672, Val Acc = 90.34%\n",
      "  Epoch 8: Train Loss = 0.2521, Train Acc = 90.83% | Val Loss = 0.2588, Val Acc = 90.78%\n",
      "  Epoch 9: Train Loss = 0.2377, Train Acc = 91.30% | Val Loss = 0.2573, Val Acc = 90.91%\n",
      "  Epoch 10: Train Loss = 0.2287, Train Acc = 91.72% | Val Loss = 0.2514, Val Acc = 90.95%\n",
      "  Epoch 11: Train Loss = 0.2184, Train Acc = 92.12% | Val Loss = 0.2636, Val Acc = 90.66%\n",
      "  Epoch 12: Train Loss = 0.2081, Train Acc = 92.51% | Val Loss = 0.2393, Val Acc = 91.51%\n",
      "  Epoch 13: Train Loss = 0.2003, Train Acc = 92.69% | Val Loss = 0.2372, Val Acc = 91.47%\n",
      "  Epoch 14: Train Loss = 0.1919, Train Acc = 93.07% | Val Loss = 0.2393, Val Acc = 91.26%\n",
      "  Epoch 15: Train Loss = 0.1840, Train Acc = 93.34% | Val Loss = 0.2264, Val Acc = 91.88%\n",
      "  Epoch 16: Train Loss = 0.1773, Train Acc = 93.49% | Val Loss = 0.2361, Val Acc = 91.08%\n",
      "  Epoch 17: Train Loss = 0.1672, Train Acc = 94.02% | Val Loss = 0.2215, Val Acc = 92.03%\n",
      "  Epoch 18: Train Loss = 0.1618, Train Acc = 94.18% | Val Loss = 0.2193, Val Acc = 92.12%\n",
      "  Epoch 19: Train Loss = 0.1574, Train Acc = 94.25% | Val Loss = 0.2232, Val Acc = 92.20%\n",
      "  Epoch 20: Train Loss = 0.1499, Train Acc = 94.62% | Val Loss = 0.2172, Val Acc = 92.32%\n",
      "  Epoch 21: Train Loss = 0.1417, Train Acc = 94.92% | Val Loss = 0.2173, Val Acc = 92.47%\n",
      "  Epoch 22: Train Loss = 0.1357, Train Acc = 95.14% | Val Loss = 0.2201, Val Acc = 92.30%\n",
      "  Epoch 23: Train Loss = 0.1288, Train Acc = 95.41% | Val Loss = 0.2325, Val Acc = 91.70%\n",
      "  Epoch 24: Train Loss = 0.1254, Train Acc = 95.48% | Val Loss = 0.2273, Val Acc = 92.44%\n"
     ]
    },
    {
     "name": "stderr",
     "output_type": "stream",
     "text": [
      "[I 2025-05-26 14:44:34,884] Trial 27 finished with value: 92.46666666666667 and parameters: {'batch_size': 112, 'num_epochs': 25, 'learning_rate': 0.0002255114543930892}. Best is trial 22 with value: 92.73333333333333.\n"
     ]
    },
    {
     "name": "stdout",
     "output_type": "stream",
     "text": [
      "  Epoch 25: Train Loss = 0.1183, Train Acc = 95.79% | Val Loss = 0.2266, Val Acc = 92.26%\n",
      "Trial 28: Using device: mps, LR: 0.000290, Batch Size: 240, Epochs: 20\n"
     ]
    },
    {
     "name": "stderr",
     "output_type": "stream",
     "text": [
      "[I 2025-05-26 14:44:42,625] Trial 28 pruned. \n"
     ]
    },
    {
     "name": "stdout",
     "output_type": "stream",
     "text": [
      "  Epoch 1: Train Loss = 0.6795, Train Acc = 76.77% | Val Loss = 0.4824, Val Acc = 82.91%\n",
      "Trial 29: Using device: mps, LR: 0.003788, Batch Size: 160, Epochs: 25\n",
      "  Epoch 1: Train Loss = 0.4521, Train Acc = 83.61% | Val Loss = 0.3277, Val Acc = 88.23%\n",
      "  Epoch 2: Train Loss = 0.2794, Train Acc = 89.76% | Val Loss = 0.2650, Val Acc = 90.29%\n",
      "  Epoch 3: Train Loss = 0.2308, Train Acc = 91.54% | Val Loss = 0.2677, Val Acc = 90.36%\n",
      "  Epoch 4: Train Loss = 0.1986, Train Acc = 92.55% | Val Loss = 0.2715, Val Acc = 90.33%\n",
      "  Epoch 5: Train Loss = 0.1729, Train Acc = 93.47% | Val Loss = 0.2461, Val Acc = 91.23%\n",
      "  Epoch 6: Train Loss = 0.1475, Train Acc = 94.41% | Val Loss = 0.2495, Val Acc = 91.75%\n",
      "  Epoch 7: Train Loss = 0.1343, Train Acc = 94.92% | Val Loss = 0.2561, Val Acc = 91.67%\n",
      "  Epoch 8: Train Loss = 0.1171, Train Acc = 95.52% | Val Loss = 0.2718, Val Acc = 91.51%\n",
      "  Epoch 9: Train Loss = 0.1003, Train Acc = 96.28% | Val Loss = 0.3378, Val Acc = 90.75%\n",
      "  Epoch 10: Train Loss = 0.0906, Train Acc = 96.67% | Val Loss = 0.3046, Val Acc = 91.69%\n",
      "  Epoch 11: Train Loss = 0.0778, Train Acc = 97.09% | Val Loss = 0.3265, Val Acc = 91.62%\n",
      "  Epoch 12: Train Loss = 0.0727, Train Acc = 97.30% | Val Loss = 0.3861, Val Acc = 91.03%\n",
      "  Epoch 13: Train Loss = 0.0667, Train Acc = 97.56% | Val Loss = 0.3580, Val Acc = 91.78%\n",
      "  Epoch 14: Train Loss = 0.0587, Train Acc = 97.86% | Val Loss = 0.3805, Val Acc = 91.19%\n",
      "  Epoch 15: Train Loss = 0.0575, Train Acc = 97.88% | Val Loss = 0.4500, Val Acc = 91.05%\n"
     ]
    },
    {
     "name": "stderr",
     "output_type": "stream",
     "text": [
      "[I 2025-05-26 14:46:52,008] Trial 29 pruned. \n"
     ]
    },
    {
     "name": "stdout",
     "output_type": "stream",
     "text": [
      "  Epoch 16: Train Loss = 0.0513, Train Acc = 98.19% | Val Loss = 0.4730, Val Acc = 91.15%\n",
      "Trial 30: Using device: mps, LR: 0.000206, Batch Size: 192, Epochs: 20\n"
     ]
    },
    {
     "name": "stderr",
     "output_type": "stream",
     "text": [
      "[I 2025-05-26 14:47:00,873] Trial 30 pruned. \n"
     ]
    },
    {
     "name": "stdout",
     "output_type": "stream",
     "text": [
      "  Epoch 1: Train Loss = 0.7224, Train Acc = 75.79% | Val Loss = 0.4817, Val Acc = 83.04%\n",
      "Trial 31: Using device: mps, LR: 0.000780, Batch Size: 112, Epochs: 25\n",
      "  Epoch 1: Train Loss = 0.4860, Train Acc = 82.50% | Val Loss = 0.3292, Val Acc = 88.27%\n",
      "  Epoch 2: Train Loss = 0.3109, Train Acc = 88.72% | Val Loss = 0.2694, Val Acc = 90.51%\n",
      "  Epoch 3: Train Loss = 0.2631, Train Acc = 90.38% | Val Loss = 0.2406, Val Acc = 91.56%\n",
      "  Epoch 4: Train Loss = 0.2312, Train Acc = 91.55% | Val Loss = 0.2458, Val Acc = 91.40%\n",
      "  Epoch 5: Train Loss = 0.2077, Train Acc = 92.44% | Val Loss = 0.2502, Val Acc = 90.78%\n",
      "  Epoch 6: Train Loss = 0.1881, Train Acc = 93.07% | Val Loss = 0.2245, Val Acc = 91.90%\n",
      "  Epoch 7: Train Loss = 0.1696, Train Acc = 93.80% | Val Loss = 0.2129, Val Acc = 92.39%\n",
      "  Epoch 8: Train Loss = 0.1507, Train Acc = 94.59% | Val Loss = 0.2191, Val Acc = 92.35%\n",
      "  Epoch 9: Train Loss = 0.1349, Train Acc = 95.01% | Val Loss = 0.2332, Val Acc = 92.11%\n",
      "  Epoch 10: Train Loss = 0.1176, Train Acc = 95.62% | Val Loss = 0.2291, Val Acc = 92.21%\n",
      "  Epoch 11: Train Loss = 0.1046, Train Acc = 96.20% | Val Loss = 0.2200, Val Acc = 92.92%\n",
      "  Epoch 12: Train Loss = 0.0884, Train Acc = 96.83% | Val Loss = 0.2272, Val Acc = 92.60%\n",
      "  Epoch 13: Train Loss = 0.0790, Train Acc = 97.10% | Val Loss = 0.2538, Val Acc = 92.53%\n",
      "  Epoch 14: Train Loss = 0.0700, Train Acc = 97.49% | Val Loss = 0.2530, Val Acc = 92.83%\n",
      "  Epoch 15: Train Loss = 0.0574, Train Acc = 98.01% | Val Loss = 0.2527, Val Acc = 92.96%\n",
      "  Epoch 16: Train Loss = 0.0487, Train Acc = 98.26% | Val Loss = 0.2675, Val Acc = 92.80%\n",
      "  Epoch 17: Train Loss = 0.0412, Train Acc = 98.50% | Val Loss = 0.3087, Val Acc = 92.40%\n",
      "  Epoch 18: Train Loss = 0.0356, Train Acc = 98.79% | Val Loss = 0.3028, Val Acc = 92.58%\n",
      "  Epoch 19: Train Loss = 0.0334, Train Acc = 98.85% | Val Loss = 0.3060, Val Acc = 92.86%\n",
      "  Epoch 20: Train Loss = 0.0247, Train Acc = 99.19% | Val Loss = 0.3316, Val Acc = 92.42%\n",
      "  Epoch 21: Train Loss = 0.0272, Train Acc = 99.09% | Val Loss = 0.3335, Val Acc = 92.38%\n",
      "  Epoch 22: Train Loss = 0.0231, Train Acc = 99.24% | Val Loss = 0.3588, Val Acc = 92.63%\n",
      "  Epoch 23: Train Loss = 0.0204, Train Acc = 99.25% | Val Loss = 0.3807, Val Acc = 92.45%\n",
      "  Epoch 24: Train Loss = 0.0195, Train Acc = 99.30% | Val Loss = 0.4009, Val Acc = 92.08%\n"
     ]
    },
    {
     "name": "stderr",
     "output_type": "stream",
     "text": [
      "[I 2025-05-26 14:50:52,311] Trial 31 finished with value: 92.95833333333333 and parameters: {'batch_size': 112, 'num_epochs': 25, 'learning_rate': 0.0007801093520990975}. Best is trial 31 with value: 92.95833333333333.\n"
     ]
    },
    {
     "name": "stdout",
     "output_type": "stream",
     "text": [
      "  Epoch 25: Train Loss = 0.0150, Train Acc = 99.52% | Val Loss = 0.3978, Val Acc = 92.41%\n",
      "Trial 32: Using device: mps, LR: 0.000565, Batch Size: 96, Epochs: 25\n",
      "  Epoch 1: Train Loss = 0.5093, Train Acc = 81.85% | Val Loss = 0.3725, Val Acc = 86.65%\n",
      "  Epoch 2: Train Loss = 0.3302, Train Acc = 88.19% | Val Loss = 0.3040, Val Acc = 89.13%\n",
      "  Epoch 3: Train Loss = 0.2847, Train Acc = 89.70% | Val Loss = 0.2896, Val Acc = 89.64%\n",
      "  Epoch 4: Train Loss = 0.2540, Train Acc = 90.76% | Val Loss = 0.2707, Val Acc = 90.10%\n",
      "  Epoch 5: Train Loss = 0.2296, Train Acc = 91.63% | Val Loss = 0.2556, Val Acc = 90.76%\n",
      "  Epoch 6: Train Loss = 0.2116, Train Acc = 92.16% | Val Loss = 0.2545, Val Acc = 90.58%\n",
      "  Epoch 7: Train Loss = 0.1917, Train Acc = 92.97% | Val Loss = 0.2529, Val Acc = 90.92%\n",
      "  Epoch 8: Train Loss = 0.1751, Train Acc = 93.64% | Val Loss = 0.2362, Val Acc = 91.62%\n",
      "  Epoch 9: Train Loss = 0.1597, Train Acc = 93.96% | Val Loss = 0.2576, Val Acc = 90.72%\n",
      "  Epoch 10: Train Loss = 0.1436, Train Acc = 94.57% | Val Loss = 0.2243, Val Acc = 91.92%\n",
      "  Epoch 11: Train Loss = 0.1345, Train Acc = 95.02% | Val Loss = 0.2434, Val Acc = 91.83%\n",
      "  Epoch 12: Train Loss = 0.1173, Train Acc = 95.80% | Val Loss = 0.2436, Val Acc = 92.13%\n",
      "  Epoch 13: Train Loss = 0.1079, Train Acc = 96.01% | Val Loss = 0.2377, Val Acc = 91.87%\n",
      "  Epoch 14: Train Loss = 0.0979, Train Acc = 96.41% | Val Loss = 0.2598, Val Acc = 91.67%\n",
      "  Epoch 15: Train Loss = 0.0841, Train Acc = 96.96% | Val Loss = 0.2572, Val Acc = 91.74%\n",
      "  Epoch 16: Train Loss = 0.0755, Train Acc = 97.33% | Val Loss = 0.2684, Val Acc = 91.87%\n",
      "  Epoch 17: Train Loss = 0.0656, Train Acc = 97.61% | Val Loss = 0.2869, Val Acc = 91.33%\n",
      "  Epoch 18: Train Loss = 0.0566, Train Acc = 97.98% | Val Loss = 0.2998, Val Acc = 92.00%\n",
      "  Epoch 19: Train Loss = 0.0508, Train Acc = 98.12% | Val Loss = 0.3164, Val Acc = 92.05%\n",
      "  Epoch 20: Train Loss = 0.0434, Train Acc = 98.44% | Val Loss = 0.3324, Val Acc = 91.81%\n",
      "  Epoch 21: Train Loss = 0.0408, Train Acc = 98.58% | Val Loss = 0.3522, Val Acc = 91.44%\n",
      "  Epoch 22: Train Loss = 0.0371, Train Acc = 98.68% | Val Loss = 0.3432, Val Acc = 91.72%\n",
      "  Epoch 23: Train Loss = 0.0289, Train Acc = 99.07% | Val Loss = 0.3650, Val Acc = 91.62%\n",
      "  Epoch 24: Train Loss = 0.0294, Train Acc = 98.99% | Val Loss = 0.3882, Val Acc = 91.69%\n"
     ]
    },
    {
     "name": "stderr",
     "output_type": "stream",
     "text": [
      "[I 2025-05-26 14:54:57,119] Trial 32 finished with value: 92.13333333333334 and parameters: {'batch_size': 96, 'num_epochs': 25, 'learning_rate': 0.0005646096632661883}. Best is trial 31 with value: 92.95833333333333.\n"
     ]
    },
    {
     "name": "stdout",
     "output_type": "stream",
     "text": [
      "  Epoch 25: Train Loss = 0.0264, Train Acc = 99.10% | Val Loss = 0.3796, Val Acc = 91.76%\n",
      "Trial 33: Using device: mps, LR: 0.001980, Batch Size: 128, Epochs: 25\n",
      "  Epoch 1: Train Loss = 0.4443, Train Acc = 83.83% | Val Loss = 0.3221, Val Acc = 88.38%\n",
      "  Epoch 2: Train Loss = 0.2743, Train Acc = 89.99% | Val Loss = 0.2602, Val Acc = 90.67%\n",
      "  Epoch 3: Train Loss = 0.2237, Train Acc = 91.74% | Val Loss = 0.2713, Val Acc = 89.96%\n",
      "  Epoch 4: Train Loss = 0.1940, Train Acc = 92.84% | Val Loss = 0.2428, Val Acc = 91.17%\n",
      "  Epoch 5: Train Loss = 0.1702, Train Acc = 93.76% | Val Loss = 0.2350, Val Acc = 91.58%\n",
      "  Epoch 6: Train Loss = 0.1441, Train Acc = 94.67% | Val Loss = 0.2569, Val Acc = 91.42%\n",
      "  Epoch 7: Train Loss = 0.1238, Train Acc = 95.40% | Val Loss = 0.2523, Val Acc = 91.89%\n",
      "  Epoch 8: Train Loss = 0.1047, Train Acc = 96.00% | Val Loss = 0.2807, Val Acc = 91.62%\n",
      "  Epoch 9: Train Loss = 0.0851, Train Acc = 96.86% | Val Loss = 0.2642, Val Acc = 91.92%\n",
      "  Epoch 10: Train Loss = 0.0737, Train Acc = 97.27% | Val Loss = 0.3008, Val Acc = 91.49%\n",
      "  Epoch 11: Train Loss = 0.0618, Train Acc = 97.69% | Val Loss = 0.3219, Val Acc = 91.52%\n",
      "  Epoch 12: Train Loss = 0.0524, Train Acc = 98.11% | Val Loss = 0.3123, Val Acc = 91.76%\n",
      "  Epoch 13: Train Loss = 0.0443, Train Acc = 98.36% | Val Loss = 0.3728, Val Acc = 91.44%\n",
      "  Epoch 14: Train Loss = 0.0410, Train Acc = 98.55% | Val Loss = 0.3883, Val Acc = 91.39%\n",
      "  Epoch 15: Train Loss = 0.0427, Train Acc = 98.50% | Val Loss = 0.3920, Val Acc = 91.47%\n",
      "  Epoch 16: Train Loss = 0.0345, Train Acc = 98.67% | Val Loss = 0.4181, Val Acc = 91.61%\n",
      "  Epoch 17: Train Loss = 0.0299, Train Acc = 98.91% | Val Loss = 0.4728, Val Acc = 91.28%\n"
     ]
    },
    {
     "name": "stderr",
     "output_type": "stream",
     "text": [
      "[I 2025-05-26 14:57:35,342] Trial 33 pruned. \n"
     ]
    },
    {
     "name": "stdout",
     "output_type": "stream",
     "text": [
      "  Epoch 18: Train Loss = 0.0236, Train Acc = 99.19% | Val Loss = 0.4651, Val Acc = 90.95%\n",
      "Trial 34: Using device: mps, LR: 0.000166, Batch Size: 96, Epochs: 20\n"
     ]
    },
    {
     "name": "stderr",
     "output_type": "stream",
     "text": [
      "[I 2025-05-26 14:57:45,126] Trial 34 pruned. \n"
     ]
    },
    {
     "name": "stdout",
     "output_type": "stream",
     "text": [
      "  Epoch 1: Train Loss = 0.6194, Train Acc = 78.54% | Val Loss = 0.4514, Val Acc = 83.57%\n",
      "Trial 35: Using device: mps, LR: 0.001062, Batch Size: 96, Epochs: 25\n",
      "  Epoch 1: Train Loss = 0.4447, Train Acc = 83.92% | Val Loss = 0.3384, Val Acc = 87.73%\n",
      "  Epoch 2: Train Loss = 0.2877, Train Acc = 89.58% | Val Loss = 0.2806, Val Acc = 89.74%\n",
      "  Epoch 3: Train Loss = 0.2431, Train Acc = 91.02% | Val Loss = 0.2372, Val Acc = 91.22%\n",
      "  Epoch 4: Train Loss = 0.2087, Train Acc = 92.25% | Val Loss = 0.2292, Val Acc = 91.54%\n",
      "  Epoch 5: Train Loss = 0.1797, Train Acc = 93.34% | Val Loss = 0.2195, Val Acc = 92.03%\n",
      "  Epoch 6: Train Loss = 0.1562, Train Acc = 94.28% | Val Loss = 0.2143, Val Acc = 92.60%\n",
      "  Epoch 7: Train Loss = 0.1384, Train Acc = 94.83% | Val Loss = 0.2388, Val Acc = 91.79%\n",
      "  Epoch 8: Train Loss = 0.1186, Train Acc = 95.69% | Val Loss = 0.2345, Val Acc = 92.42%\n",
      "  Epoch 9: Train Loss = 0.0994, Train Acc = 96.28% | Val Loss = 0.2433, Val Acc = 92.25%\n",
      "  Epoch 10: Train Loss = 0.0808, Train Acc = 97.05% | Val Loss = 0.2549, Val Acc = 92.23%\n",
      "  Epoch 11: Train Loss = 0.0695, Train Acc = 97.45% | Val Loss = 0.2640, Val Acc = 92.41%\n",
      "  Epoch 12: Train Loss = 0.0569, Train Acc = 97.90% | Val Loss = 0.3040, Val Acc = 91.99%\n",
      "  Epoch 13: Train Loss = 0.0492, Train Acc = 98.23% | Val Loss = 0.3113, Val Acc = 92.43%\n",
      "  Epoch 14: Train Loss = 0.0377, Train Acc = 98.67% | Val Loss = 0.3198, Val Acc = 92.29%\n",
      "  Epoch 15: Train Loss = 0.0322, Train Acc = 98.84% | Val Loss = 0.3476, Val Acc = 91.95%\n",
      "  Epoch 16: Train Loss = 0.0288, Train Acc = 99.02% | Val Loss = 0.3891, Val Acc = 91.81%\n",
      "  Epoch 17: Train Loss = 0.0305, Train Acc = 98.89% | Val Loss = 0.3809, Val Acc = 92.07%\n",
      "  Epoch 18: Train Loss = 0.0255, Train Acc = 99.09% | Val Loss = 0.3958, Val Acc = 92.17%\n",
      "  Epoch 19: Train Loss = 0.0188, Train Acc = 99.34% | Val Loss = 0.4198, Val Acc = 92.22%\n",
      "  Epoch 20: Train Loss = 0.0196, Train Acc = 99.33% | Val Loss = 0.4514, Val Acc = 92.18%\n",
      "  Epoch 21: Train Loss = 0.0231, Train Acc = 99.20% | Val Loss = 0.4334, Val Acc = 92.08%\n",
      "  Epoch 22: Train Loss = 0.0142, Train Acc = 99.51% | Val Loss = 0.4736, Val Acc = 91.99%\n",
      "  Epoch 23: Train Loss = 0.0134, Train Acc = 99.55% | Val Loss = 0.5389, Val Acc = 91.69%\n",
      "  Epoch 24: Train Loss = 0.0183, Train Acc = 99.37% | Val Loss = 0.4881, Val Acc = 91.98%\n"
     ]
    },
    {
     "name": "stderr",
     "output_type": "stream",
     "text": [
      "[I 2025-05-26 15:01:47,197] Trial 35 finished with value: 92.6 and parameters: {'batch_size': 96, 'num_epochs': 25, 'learning_rate': 0.0010617885768445885}. Best is trial 31 with value: 92.95833333333333.\n"
     ]
    },
    {
     "name": "stdout",
     "output_type": "stream",
     "text": [
      "  Epoch 25: Train Loss = 0.0159, Train Acc = 99.47% | Val Loss = 0.5030, Val Acc = 92.12%\n",
      "Trial 36: Using device: mps, LR: 0.000386, Batch Size: 80, Epochs: 25\n"
     ]
    },
    {
     "name": "stderr",
     "output_type": "stream",
     "text": [
      "[I 2025-05-26 15:01:58,103] Trial 36 pruned. \n"
     ]
    },
    {
     "name": "stdout",
     "output_type": "stream",
     "text": [
      "  Epoch 1: Train Loss = 0.5169, Train Acc = 81.77% | Val Loss = 0.4289, Val Acc = 84.15%\n",
      "Trial 37: Using device: mps, LR: 0.003123, Batch Size: 144, Epochs: 20\n",
      "  Epoch 1: Train Loss = 0.4350, Train Acc = 84.08% | Val Loss = 0.3003, Val Acc = 88.88%\n",
      "  Epoch 2: Train Loss = 0.2720, Train Acc = 89.93% | Val Loss = 0.2629, Val Acc = 90.51%\n",
      "  Epoch 3: Train Loss = 0.2235, Train Acc = 91.71% | Val Loss = 0.2334, Val Acc = 91.38%\n",
      "  Epoch 4: Train Loss = 0.1946, Train Acc = 92.73% | Val Loss = 0.2440, Val Acc = 90.73%\n",
      "  Epoch 5: Train Loss = 0.1654, Train Acc = 93.86% | Val Loss = 0.2314, Val Acc = 92.04%\n",
      "  Epoch 6: Train Loss = 0.1439, Train Acc = 94.59% | Val Loss = 0.2366, Val Acc = 92.06%\n",
      "  Epoch 7: Train Loss = 0.1238, Train Acc = 95.25% | Val Loss = 0.2339, Val Acc = 92.15%\n",
      "  Epoch 8: Train Loss = 0.1040, Train Acc = 96.13% | Val Loss = 0.2766, Val Acc = 91.38%\n",
      "  Epoch 9: Train Loss = 0.0912, Train Acc = 96.58% | Val Loss = 0.2748, Val Acc = 91.62%\n",
      "  Epoch 10: Train Loss = 0.0821, Train Acc = 96.94% | Val Loss = 0.3075, Val Acc = 91.67%\n",
      "  Epoch 11: Train Loss = 0.0653, Train Acc = 97.51% | Val Loss = 0.3380, Val Acc = 91.51%\n",
      "  Epoch 12: Train Loss = 0.0580, Train Acc = 97.83% | Val Loss = 0.3693, Val Acc = 91.58%\n",
      "  Epoch 13: Train Loss = 0.0564, Train Acc = 97.97% | Val Loss = 0.3971, Val Acc = 91.42%\n",
      "  Epoch 14: Train Loss = 0.0556, Train Acc = 97.95% | Val Loss = 0.3793, Val Acc = 92.00%\n",
      "  Epoch 15: Train Loss = 0.0479, Train Acc = 98.28% | Val Loss = 0.4092, Val Acc = 91.85%\n",
      "  Epoch 16: Train Loss = 0.0429, Train Acc = 98.47% | Val Loss = 0.4135, Val Acc = 91.12%\n",
      "  Epoch 17: Train Loss = 0.0498, Train Acc = 98.29% | Val Loss = 0.4660, Val Acc = 91.29%\n",
      "  Epoch 18: Train Loss = 0.0353, Train Acc = 98.67% | Val Loss = 0.4997, Val Acc = 91.22%\n",
      "  Epoch 19: Train Loss = 0.0278, Train Acc = 99.01% | Val Loss = 0.4940, Val Acc = 91.98%\n"
     ]
    },
    {
     "name": "stderr",
     "output_type": "stream",
     "text": [
      "[I 2025-05-26 15:04:45,104] Trial 37 finished with value: 92.15 and parameters: {'batch_size': 144, 'num_epochs': 20, 'learning_rate': 0.003122622003849581}. Best is trial 31 with value: 92.95833333333333.\n"
     ]
    },
    {
     "name": "stdout",
     "output_type": "stream",
     "text": [
      "  Epoch 20: Train Loss = 0.0354, Train Acc = 98.82% | Val Loss = 0.5388, Val Acc = 91.38%\n",
      "Trial 38: Using device: mps, LR: 0.000972, Batch Size: 128, Epochs: 25\n",
      "  Epoch 1: Train Loss = 0.4846, Train Acc = 82.64% | Val Loss = 0.3159, Val Acc = 88.72%\n",
      "  Epoch 2: Train Loss = 0.3095, Train Acc = 88.89% | Val Loss = 0.2724, Val Acc = 90.14%\n",
      "  Epoch 3: Train Loss = 0.2581, Train Acc = 90.64% | Val Loss = 0.2621, Val Acc = 90.65%\n",
      "  Epoch 4: Train Loss = 0.2287, Train Acc = 91.64% | Val Loss = 0.2548, Val Acc = 90.57%\n",
      "  Epoch 5: Train Loss = 0.2039, Train Acc = 92.58% | Val Loss = 0.2368, Val Acc = 91.60%\n",
      "  Epoch 6: Train Loss = 0.1830, Train Acc = 93.21% | Val Loss = 0.2344, Val Acc = 91.57%\n",
      "  Epoch 7: Train Loss = 0.1653, Train Acc = 93.99% | Val Loss = 0.2326, Val Acc = 91.86%\n",
      "  Epoch 8: Train Loss = 0.1453, Train Acc = 94.59% | Val Loss = 0.2334, Val Acc = 92.10%\n",
      "  Epoch 9: Train Loss = 0.1303, Train Acc = 95.11% | Val Loss = 0.2287, Val Acc = 92.28%\n",
      "  Epoch 10: Train Loss = 0.1144, Train Acc = 95.81% | Val Loss = 0.2426, Val Acc = 92.11%\n",
      "  Epoch 11: Train Loss = 0.1006, Train Acc = 96.25% | Val Loss = 0.2453, Val Acc = 92.45%\n",
      "  Epoch 12: Train Loss = 0.0858, Train Acc = 96.82% | Val Loss = 0.2552, Val Acc = 92.18%\n",
      "  Epoch 13: Train Loss = 0.0747, Train Acc = 97.31% | Val Loss = 0.2572, Val Acc = 92.44%\n",
      "  Epoch 14: Train Loss = 0.0677, Train Acc = 97.54% | Val Loss = 0.2931, Val Acc = 92.27%\n",
      "  Epoch 15: Train Loss = 0.0540, Train Acc = 98.08% | Val Loss = 0.3004, Val Acc = 92.35%\n",
      "  Epoch 16: Train Loss = 0.0477, Train Acc = 98.29% | Val Loss = 0.3166, Val Acc = 92.29%\n",
      "  Epoch 17: Train Loss = 0.0404, Train Acc = 98.56% | Val Loss = 0.3280, Val Acc = 92.28%\n",
      "  Epoch 18: Train Loss = 0.0392, Train Acc = 98.61% | Val Loss = 0.3407, Val Acc = 92.14%\n",
      "  Epoch 19: Train Loss = 0.0320, Train Acc = 98.85% | Val Loss = 0.3708, Val Acc = 92.01%\n",
      "  Epoch 20: Train Loss = 0.0293, Train Acc = 98.95% | Val Loss = 0.3945, Val Acc = 91.69%\n",
      "  Epoch 21: Train Loss = 0.0240, Train Acc = 99.17% | Val Loss = 0.4133, Val Acc = 92.11%\n",
      "  Epoch 22: Train Loss = 0.0203, Train Acc = 99.25% | Val Loss = 0.4331, Val Acc = 91.99%\n",
      "  Epoch 23: Train Loss = 0.0208, Train Acc = 99.26% | Val Loss = 0.4295, Val Acc = 92.20%\n",
      "  Epoch 24: Train Loss = 0.0228, Train Acc = 99.21% | Val Loss = 0.4271, Val Acc = 92.25%\n"
     ]
    },
    {
     "name": "stderr",
     "output_type": "stream",
     "text": [
      "[I 2025-05-26 15:08:23,212] Trial 38 finished with value: 92.45 and parameters: {'batch_size': 128, 'num_epochs': 25, 'learning_rate': 0.0009716696380079556}. Best is trial 31 with value: 92.95833333333333.\n"
     ]
    },
    {
     "name": "stdout",
     "output_type": "stream",
     "text": [
      "  Epoch 25: Train Loss = 0.0217, Train Acc = 99.22% | Val Loss = 0.4820, Val Acc = 91.77%\n",
      "Trial 39: Using device: mps, LR: 0.000404, Batch Size: 96, Epochs: 20\n",
      "  Epoch 1: Train Loss = 0.5427, Train Acc = 80.69% | Val Loss = 0.4085, Val Acc = 85.12%\n",
      "  Epoch 2: Train Loss = 0.3448, Train Acc = 87.65% | Val Loss = 0.3272, Val Acc = 88.26%\n",
      "  Epoch 3: Train Loss = 0.2996, Train Acc = 89.20% | Val Loss = 0.3042, Val Acc = 89.06%\n",
      "  Epoch 4: Train Loss = 0.2695, Train Acc = 90.13% | Val Loss = 0.2881, Val Acc = 89.62%\n",
      "  Epoch 5: Train Loss = 0.2456, Train Acc = 91.04% | Val Loss = 0.2563, Val Acc = 90.82%\n",
      "  Epoch 6: Train Loss = 0.2267, Train Acc = 91.74% | Val Loss = 0.2628, Val Acc = 90.54%\n",
      "  Epoch 7: Train Loss = 0.2114, Train Acc = 92.28% | Val Loss = 0.2531, Val Acc = 90.54%\n",
      "  Epoch 8: Train Loss = 0.1974, Train Acc = 92.75% | Val Loss = 0.2614, Val Acc = 90.60%\n",
      "  Epoch 9: Train Loss = 0.1799, Train Acc = 93.41% | Val Loss = 0.2317, Val Acc = 91.72%\n",
      "  Epoch 10: Train Loss = 0.1685, Train Acc = 93.81% | Val Loss = 0.2409, Val Acc = 91.36%\n",
      "  Epoch 11: Train Loss = 0.1558, Train Acc = 94.22% | Val Loss = 0.2359, Val Acc = 91.19%\n",
      "  Epoch 12: Train Loss = 0.1443, Train Acc = 94.67% | Val Loss = 0.2448, Val Acc = 91.13%\n"
     ]
    },
    {
     "name": "stderr",
     "output_type": "stream",
     "text": [
      "[I 2025-05-26 15:37:29,546] Trial 39 pruned. \n"
     ]
    },
    {
     "name": "stdout",
     "output_type": "stream",
     "text": [
      "  Epoch 13: Train Loss = 0.1319, Train Acc = 95.23% | Val Loss = 0.2328, Val Acc = 91.78%\n",
      "\n",
      "--- Optuna Optimization Finished ---\n",
      "Number of finished trials:  40\n",
      "Best trial:\n",
      "  Value: 92.9583 (Best Validation Accuracy)\n",
      "  Params: \n",
      "    batch_size: 112\n",
      "    num_epochs: 25\n",
      "    learning_rate: 0.0007801093520990975\n"
     ]
    }
   ],
   "source": [
    "db_storage_path = \"sqlite:///fashion_mnist_hpo.db\"\n",
    "\n",
    "study = optuna.create_study(\n",
    "    study_name=\"fashion_mnist_cnn_hpo_study\",\n",
    "    direction=\"maximize\",\n",
    "    storage=db_storage_path,\n",
    "    load_if_exists=True,\n",
    ")\n",
    "\n",
    "print(\"\\n--- Starting Optuna Hyperparameter Optimization ---\")\n",
    "study.optimize(objective, n_trials=20)\n",
    "\n",
    "print(\"\\n--- Optuna Optimization Finished ---\")\n",
    "print(\"Number of finished trials: \", len(study.trials))\n",
    "print(\"Best trial:\")\n",
    "trial = study.best_trial\n",
    "\n",
    "print(f\"  Value: {trial.value:.4f} (Best Validation Accuracy)\")\n",
    "print(\"  Params: \")\n",
    "for key, value in trial.params.items():\n",
    "    print(f\"    {key}: {value}\")"
   ]
  },
  {
   "cell_type": "code",
   "execution_count": 28,
   "id": "caf635b2",
   "metadata": {},
   "outputs": [
    {
     "data": {
      "text/plain": [
       "{'batch_size': 112, 'num_epochs': 25, 'learning_rate': 0.0007801093520990975}"
      ]
     },
     "execution_count": 28,
     "metadata": {},
     "output_type": "execute_result"
    }
   ],
   "source": [
    "study.best_params"
   ]
  },
  {
   "cell_type": "code",
   "execution_count": 32,
   "id": "d1c9ef24",
   "metadata": {},
   "outputs": [
    {
     "name": "stdout",
     "output_type": "stream",
     "text": [
      "Epoch 1/25, Training Loss: 0.4878, Training Accuracy: 0.8264\n",
      "Epoch 1/25, Validation Loss: 0.3576, Validation Accuracy: 0.8672\n",
      "-----------------------------------------------------\n",
      "Epoch 2/25, Training Loss: 0.3113, Training Accuracy: 0.8893\n",
      "Epoch 2/25, Validation Loss: 0.2849, Validation Accuracy: 0.8938\n",
      "-----------------------------------------------------\n",
      "Epoch 3/25, Training Loss: 0.2619, Training Accuracy: 0.9052\n",
      "Epoch 3/25, Validation Loss: 0.2551, Validation Accuracy: 0.9066\n",
      "-----------------------------------------------------\n",
      "Epoch 4/25, Training Loss: 0.2317, Training Accuracy: 0.9160\n",
      "Epoch 4/25, Validation Loss: 0.2313, Validation Accuracy: 0.9142\n",
      "-----------------------------------------------------\n",
      "Epoch 5/25, Training Loss: 0.2068, Training Accuracy: 0.9256\n",
      "Epoch 5/25, Validation Loss: 0.2349, Validation Accuracy: 0.9140\n",
      "-----------------------------------------------------\n",
      "Epoch 6/25, Training Loss: 0.1843, Training Accuracy: 0.9325\n",
      "Epoch 6/25, Validation Loss: 0.2293, Validation Accuracy: 0.9143\n",
      "-----------------------------------------------------\n",
      "Epoch 7/25, Training Loss: 0.1671, Training Accuracy: 0.9381\n",
      "Epoch 7/25, Validation Loss: 0.2245, Validation Accuracy: 0.9167\n",
      "-----------------------------------------------------\n",
      "Epoch 8/25, Training Loss: 0.1517, Training Accuracy: 0.9440\n",
      "Epoch 8/25, Validation Loss: 0.2232, Validation Accuracy: 0.9187\n",
      "-----------------------------------------------------\n",
      "Epoch 9/25, Training Loss: 0.1333, Training Accuracy: 0.9512\n",
      "Epoch 9/25, Validation Loss: 0.2142, Validation Accuracy: 0.9236\n",
      "-----------------------------------------------------\n",
      "Epoch 10/25, Training Loss: 0.1160, Training Accuracy: 0.9577\n",
      "Epoch 10/25, Validation Loss: 0.2118, Validation Accuracy: 0.9261\n",
      "-----------------------------------------------------\n",
      "Epoch 11/25, Training Loss: 0.1076, Training Accuracy: 0.9603\n",
      "Epoch 11/25, Validation Loss: 0.2232, Validation Accuracy: 0.9272\n",
      "-----------------------------------------------------\n",
      "Epoch 12/25, Training Loss: 0.0922, Training Accuracy: 0.9662\n",
      "Epoch 12/25, Validation Loss: 0.2355, Validation Accuracy: 0.9208\n",
      "-----------------------------------------------------\n",
      "Epoch 13/25, Training Loss: 0.0803, Training Accuracy: 0.9704\n",
      "Epoch 13/25, Validation Loss: 0.2557, Validation Accuracy: 0.9233\n",
      "-----------------------------------------------------\n",
      "Epoch 14/25, Training Loss: 0.0678, Training Accuracy: 0.9760\n",
      "Epoch 14/25, Validation Loss: 0.2670, Validation Accuracy: 0.9190\n",
      "-----------------------------------------------------\n",
      "Epoch 15/25, Training Loss: 0.0591, Training Accuracy: 0.9788\n",
      "Epoch 15/25, Validation Loss: 0.2639, Validation Accuracy: 0.9230\n",
      "-----------------------------------------------------\n",
      "Epoch 16/25, Training Loss: 0.0512, Training Accuracy: 0.9816\n",
      "Epoch 16/25, Validation Loss: 0.2878, Validation Accuracy: 0.9181\n",
      "-----------------------------------------------------\n",
      "Epoch 17/25, Training Loss: 0.0449, Training Accuracy: 0.9844\n",
      "Epoch 17/25, Validation Loss: 0.2812, Validation Accuracy: 0.9224\n",
      "-----------------------------------------------------\n",
      "Epoch 18/25, Training Loss: 0.0351, Training Accuracy: 0.9877\n",
      "Epoch 18/25, Validation Loss: 0.3115, Validation Accuracy: 0.9242\n",
      "-----------------------------------------------------\n",
      "Epoch 19/25, Training Loss: 0.0358, Training Accuracy: 0.9874\n",
      "Epoch 19/25, Validation Loss: 0.3057, Validation Accuracy: 0.9223\n",
      "-----------------------------------------------------\n",
      "Epoch 20/25, Training Loss: 0.0267, Training Accuracy: 0.9909\n",
      "Epoch 20/25, Validation Loss: 0.3691, Validation Accuracy: 0.9193\n",
      "-----------------------------------------------------\n",
      "Epoch 21/25, Training Loss: 0.0257, Training Accuracy: 0.9912\n",
      "Epoch 21/25, Validation Loss: 0.3555, Validation Accuracy: 0.9222\n",
      "-----------------------------------------------------\n",
      "Epoch 22/25, Training Loss: 0.0244, Training Accuracy: 0.9912\n",
      "Epoch 22/25, Validation Loss: 0.3695, Validation Accuracy: 0.9203\n",
      "-----------------------------------------------------\n",
      "Epoch 23/25, Training Loss: 0.0196, Training Accuracy: 0.9928\n",
      "Epoch 23/25, Validation Loss: 0.3961, Validation Accuracy: 0.9258\n",
      "-----------------------------------------------------\n",
      "Epoch 24/25, Training Loss: 0.0221, Training Accuracy: 0.9918\n",
      "Epoch 24/25, Validation Loss: 0.3842, Validation Accuracy: 0.9240\n",
      "-----------------------------------------------------\n",
      "Epoch 25/25, Training Loss: 0.0195, Training Accuracy: 0.9933\n",
      "Epoch 25/25, Validation Loss: 0.4123, Validation Accuracy: 0.9263\n",
      "-----------------------------------------------------\n"
     ]
    }
   ],
   "source": [
    "model = SimpleCNN(input_shape, number_classes)\n",
    "train_model(model, \n",
    "             batch_size=study.best_params['batch_size'], \n",
    "             num_epochs=study.best_params['num_epochs'], \n",
    "             lr=study.best_params['learning_rate'])"
   ]
  },
  {
   "cell_type": "code",
   "execution_count": null,
   "id": "f730f6ae",
   "metadata": {},
   "outputs": [],
   "source": []
  }
 ],
 "metadata": {
  "kernelspec": {
   "display_name": ".venv",
   "language": "python",
   "name": "python3"
  },
  "language_info": {
   "codemirror_mode": {
    "name": "ipython",
    "version": 3
   },
   "file_extension": ".py",
   "mimetype": "text/x-python",
   "name": "python",
   "nbconvert_exporter": "python",
   "pygments_lexer": "ipython3",
   "version": "3.12.4"
  }
 },
 "nbformat": 4,
 "nbformat_minor": 5
}
